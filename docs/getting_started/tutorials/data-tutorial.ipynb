{
 "cells": [
  {
   "cell_type": "markdown",
   "metadata": {},
   "source": [
    "# Data Preparation\n",
    "## Getting Started\n",
    "This tutorial focuses on data, including a brief discussion on how to best prepare your data so it works well with the `chainladder` package. \n",
    "\n",
    "Be sure to make sure your packages are updated. For more info on how to update your pakages, visit [Keeping Packages Updated](https://chainladder-python.readthedocs.io/en/latest/library/install.html#keeping-packages-updated)."
   ]
  },
  {
   "cell_type": "code",
   "execution_count": 46,
   "metadata": {},
   "outputs": [
    {
     "name": "stdout",
     "output_type": "stream",
     "text": [
      "pandas: 2.3.3\n",
      "numpy: 2.3.3\n",
      "chainladder: 0.8.25\n"
     ]
    }
   ],
   "source": [
    "# Black linter, optional\n",
    "import jupyter_black as jb\n",
    "\n",
    "jb.load()\n",
    "\n",
    "import pandas as pd\n",
    "import numpy as np\n",
    "import chainladder as cl\n",
    "import matplotlib.pyplot as plt\n",
    "\n",
    "print(\"pandas: \" + pd.__version__)\n",
    "print(\"numpy: \" + np.__version__)\n",
    "print(\"chainladder: \" + cl.__version__)"
   ]
  },
  {
   "cell_type": "markdown",
   "metadata": {},
   "source": [
    "## Disclaimer\n",
    "Note that a lot of the examples shown might not be applicable in a real world scenario, and is only meant to demonstrate some of the functionalities included in the package. The user should always follow all applicable laws, the Code of Professional Conduct, applicable Actuarial Standards of Practice, and exercise their best actuarial judgement."
   ]
  },
  {
   "cell_type": "markdown",
   "metadata": {
    "tags": []
   },
   "source": [
    "## Converting Triangle Data into Long Format\n",
    "\n",
    "One of the most commonly asked questions is that if the data needs to be in the tabular long format as opposed to the already processed triangle format when we are loading the data for use. \n",
    "\n",
    "Unfortunately, the chainladder package requires the data to be in long form. "
   ]
  },
  {
   "cell_type": "markdown",
   "metadata": {},
   "source": [
    "Suppose you have a wide triangle."
   ]
  },
  {
   "cell_type": "code",
   "execution_count": 25,
   "metadata": {},
   "outputs": [
    {
     "data": {
      "text/html": [
       "<div>\n",
       "<style scoped>\n",
       "    .dataframe tbody tr th:only-of-type {\n",
       "        vertical-align: middle;\n",
       "    }\n",
       "\n",
       "    .dataframe tbody tr th {\n",
       "        vertical-align: top;\n",
       "    }\n",
       "\n",
       "    .dataframe thead th {\n",
       "        text-align: right;\n",
       "    }\n",
       "</style>\n",
       "<table border=\"1\" class=\"dataframe\">\n",
       "  <thead>\n",
       "    <tr style=\"text-align: right;\">\n",
       "      <th></th>\n",
       "      <th>12</th>\n",
       "      <th>24</th>\n",
       "      <th>36</th>\n",
       "      <th>48</th>\n",
       "      <th>60</th>\n",
       "      <th>72</th>\n",
       "      <th>84</th>\n",
       "      <th>96</th>\n",
       "      <th>108</th>\n",
       "      <th>120</th>\n",
       "    </tr>\n",
       "  </thead>\n",
       "  <tbody>\n",
       "    <tr>\n",
       "      <th>1981-01-01</th>\n",
       "      <td>5012.0</td>\n",
       "      <td>8269.0</td>\n",
       "      <td>10907.0</td>\n",
       "      <td>11805.0</td>\n",
       "      <td>13539.0</td>\n",
       "      <td>16181.0</td>\n",
       "      <td>18009.0</td>\n",
       "      <td>18608.0</td>\n",
       "      <td>18662.0</td>\n",
       "      <td>18834.0</td>\n",
       "    </tr>\n",
       "    <tr>\n",
       "      <th>1982-01-01</th>\n",
       "      <td>106.0</td>\n",
       "      <td>4285.0</td>\n",
       "      <td>5396.0</td>\n",
       "      <td>10666.0</td>\n",
       "      <td>13782.0</td>\n",
       "      <td>15599.0</td>\n",
       "      <td>15496.0</td>\n",
       "      <td>16169.0</td>\n",
       "      <td>16704.0</td>\n",
       "      <td>NaN</td>\n",
       "    </tr>\n",
       "    <tr>\n",
       "      <th>1983-01-01</th>\n",
       "      <td>3410.0</td>\n",
       "      <td>8992.0</td>\n",
       "      <td>13873.0</td>\n",
       "      <td>16141.0</td>\n",
       "      <td>18735.0</td>\n",
       "      <td>22214.0</td>\n",
       "      <td>22863.0</td>\n",
       "      <td>23466.0</td>\n",
       "      <td>NaN</td>\n",
       "      <td>NaN</td>\n",
       "    </tr>\n",
       "    <tr>\n",
       "      <th>1984-01-01</th>\n",
       "      <td>5655.0</td>\n",
       "      <td>11555.0</td>\n",
       "      <td>15766.0</td>\n",
       "      <td>21266.0</td>\n",
       "      <td>23425.0</td>\n",
       "      <td>26083.0</td>\n",
       "      <td>27067.0</td>\n",
       "      <td>NaN</td>\n",
       "      <td>NaN</td>\n",
       "      <td>NaN</td>\n",
       "    </tr>\n",
       "    <tr>\n",
       "      <th>1985-01-01</th>\n",
       "      <td>1092.0</td>\n",
       "      <td>9565.0</td>\n",
       "      <td>15836.0</td>\n",
       "      <td>22169.0</td>\n",
       "      <td>25955.0</td>\n",
       "      <td>26180.0</td>\n",
       "      <td>NaN</td>\n",
       "      <td>NaN</td>\n",
       "      <td>NaN</td>\n",
       "      <td>NaN</td>\n",
       "    </tr>\n",
       "    <tr>\n",
       "      <th>1986-01-01</th>\n",
       "      <td>1513.0</td>\n",
       "      <td>6445.0</td>\n",
       "      <td>11702.0</td>\n",
       "      <td>12935.0</td>\n",
       "      <td>15852.0</td>\n",
       "      <td>NaN</td>\n",
       "      <td>NaN</td>\n",
       "      <td>NaN</td>\n",
       "      <td>NaN</td>\n",
       "      <td>NaN</td>\n",
       "    </tr>\n",
       "    <tr>\n",
       "      <th>1987-01-01</th>\n",
       "      <td>557.0</td>\n",
       "      <td>4020.0</td>\n",
       "      <td>10946.0</td>\n",
       "      <td>12314.0</td>\n",
       "      <td>NaN</td>\n",
       "      <td>NaN</td>\n",
       "      <td>NaN</td>\n",
       "      <td>NaN</td>\n",
       "      <td>NaN</td>\n",
       "      <td>NaN</td>\n",
       "    </tr>\n",
       "    <tr>\n",
       "      <th>1988-01-01</th>\n",
       "      <td>1351.0</td>\n",
       "      <td>6947.0</td>\n",
       "      <td>13112.0</td>\n",
       "      <td>NaN</td>\n",
       "      <td>NaN</td>\n",
       "      <td>NaN</td>\n",
       "      <td>NaN</td>\n",
       "      <td>NaN</td>\n",
       "      <td>NaN</td>\n",
       "      <td>NaN</td>\n",
       "    </tr>\n",
       "    <tr>\n",
       "      <th>1989-01-01</th>\n",
       "      <td>3133.0</td>\n",
       "      <td>5395.0</td>\n",
       "      <td>NaN</td>\n",
       "      <td>NaN</td>\n",
       "      <td>NaN</td>\n",
       "      <td>NaN</td>\n",
       "      <td>NaN</td>\n",
       "      <td>NaN</td>\n",
       "      <td>NaN</td>\n",
       "      <td>NaN</td>\n",
       "    </tr>\n",
       "    <tr>\n",
       "      <th>1990-01-01</th>\n",
       "      <td>2063.0</td>\n",
       "      <td>NaN</td>\n",
       "      <td>NaN</td>\n",
       "      <td>NaN</td>\n",
       "      <td>NaN</td>\n",
       "      <td>NaN</td>\n",
       "      <td>NaN</td>\n",
       "      <td>NaN</td>\n",
       "      <td>NaN</td>\n",
       "      <td>NaN</td>\n",
       "    </tr>\n",
       "  </tbody>\n",
       "</table>\n",
       "</div>"
      ],
      "text/plain": [
       "               12       24       36       48       60       72       84   \\\n",
       "1981-01-01  5012.0   8269.0  10907.0  11805.0  13539.0  16181.0  18009.0   \n",
       "1982-01-01   106.0   4285.0   5396.0  10666.0  13782.0  15599.0  15496.0   \n",
       "1983-01-01  3410.0   8992.0  13873.0  16141.0  18735.0  22214.0  22863.0   \n",
       "1984-01-01  5655.0  11555.0  15766.0  21266.0  23425.0  26083.0  27067.0   \n",
       "1985-01-01  1092.0   9565.0  15836.0  22169.0  25955.0  26180.0      NaN   \n",
       "1986-01-01  1513.0   6445.0  11702.0  12935.0  15852.0      NaN      NaN   \n",
       "1987-01-01   557.0   4020.0  10946.0  12314.0      NaN      NaN      NaN   \n",
       "1988-01-01  1351.0   6947.0  13112.0      NaN      NaN      NaN      NaN   \n",
       "1989-01-01  3133.0   5395.0      NaN      NaN      NaN      NaN      NaN   \n",
       "1990-01-01  2063.0      NaN      NaN      NaN      NaN      NaN      NaN   \n",
       "\n",
       "                96       108      120  \n",
       "1981-01-01  18608.0  18662.0  18834.0  \n",
       "1982-01-01  16169.0  16704.0      NaN  \n",
       "1983-01-01  23466.0      NaN      NaN  \n",
       "1984-01-01      NaN      NaN      NaN  \n",
       "1985-01-01      NaN      NaN      NaN  \n",
       "1986-01-01      NaN      NaN      NaN  \n",
       "1987-01-01      NaN      NaN      NaN  \n",
       "1988-01-01      NaN      NaN      NaN  \n",
       "1989-01-01      NaN      NaN      NaN  \n",
       "1990-01-01      NaN      NaN      NaN  "
      ]
     },
     "execution_count": 25,
     "metadata": {},
     "output_type": "execute_result"
    }
   ],
   "source": [
    "df = cl.load_sample(\"raa\").to_frame(origin_as_datetime=True)\n",
    "df"
   ]
  },
  {
   "cell_type": "markdown",
   "metadata": {},
   "source": [
    "You can use pandas to unstack the data into the wide long format."
   ]
  },
  {
   "cell_type": "code",
   "execution_count": 26,
   "metadata": {},
   "outputs": [
    {
     "data": {
      "text/html": [
       "<div>\n",
       "<style scoped>\n",
       "    .dataframe tbody tr th:only-of-type {\n",
       "        vertical-align: middle;\n",
       "    }\n",
       "\n",
       "    .dataframe tbody tr th {\n",
       "        vertical-align: top;\n",
       "    }\n",
       "\n",
       "    .dataframe thead th {\n",
       "        text-align: right;\n",
       "    }\n",
       "</style>\n",
       "<table border=\"1\" class=\"dataframe\">\n",
       "  <thead>\n",
       "    <tr style=\"text-align: right;\">\n",
       "      <th></th>\n",
       "      <th>level_0</th>\n",
       "      <th>level_1</th>\n",
       "      <th>0</th>\n",
       "    </tr>\n",
       "  </thead>\n",
       "  <tbody>\n",
       "    <tr>\n",
       "      <th>0</th>\n",
       "      <td>12</td>\n",
       "      <td>1981-01-01</td>\n",
       "      <td>5012.0</td>\n",
       "    </tr>\n",
       "    <tr>\n",
       "      <th>1</th>\n",
       "      <td>12</td>\n",
       "      <td>1982-01-01</td>\n",
       "      <td>106.0</td>\n",
       "    </tr>\n",
       "    <tr>\n",
       "      <th>2</th>\n",
       "      <td>12</td>\n",
       "      <td>1983-01-01</td>\n",
       "      <td>3410.0</td>\n",
       "    </tr>\n",
       "    <tr>\n",
       "      <th>3</th>\n",
       "      <td>12</td>\n",
       "      <td>1984-01-01</td>\n",
       "      <td>5655.0</td>\n",
       "    </tr>\n",
       "    <tr>\n",
       "      <th>4</th>\n",
       "      <td>12</td>\n",
       "      <td>1985-01-01</td>\n",
       "      <td>1092.0</td>\n",
       "    </tr>\n",
       "    <tr>\n",
       "      <th>5</th>\n",
       "      <td>12</td>\n",
       "      <td>1986-01-01</td>\n",
       "      <td>1513.0</td>\n",
       "    </tr>\n",
       "    <tr>\n",
       "      <th>6</th>\n",
       "      <td>12</td>\n",
       "      <td>1987-01-01</td>\n",
       "      <td>557.0</td>\n",
       "    </tr>\n",
       "    <tr>\n",
       "      <th>7</th>\n",
       "      <td>12</td>\n",
       "      <td>1988-01-01</td>\n",
       "      <td>1351.0</td>\n",
       "    </tr>\n",
       "    <tr>\n",
       "      <th>8</th>\n",
       "      <td>12</td>\n",
       "      <td>1989-01-01</td>\n",
       "      <td>3133.0</td>\n",
       "    </tr>\n",
       "    <tr>\n",
       "      <th>9</th>\n",
       "      <td>12</td>\n",
       "      <td>1990-01-01</td>\n",
       "      <td>2063.0</td>\n",
       "    </tr>\n",
       "  </tbody>\n",
       "</table>\n",
       "</div>"
      ],
      "text/plain": [
       "   level_0    level_1       0\n",
       "0       12 1981-01-01  5012.0\n",
       "1       12 1982-01-01   106.0\n",
       "2       12 1983-01-01  3410.0\n",
       "3       12 1984-01-01  5655.0\n",
       "4       12 1985-01-01  1092.0\n",
       "5       12 1986-01-01  1513.0\n",
       "6       12 1987-01-01   557.0\n",
       "7       12 1988-01-01  1351.0\n",
       "8       12 1989-01-01  3133.0\n",
       "9       12 1990-01-01  2063.0"
      ]
     },
     "execution_count": 26,
     "metadata": {},
     "output_type": "execute_result"
    }
   ],
   "source": [
    "df = df.unstack().dropna().reset_index()\n",
    "df.head(10)"
   ]
  },
  {
   "cell_type": "markdown",
   "metadata": {},
   "source": [
    "Let's clean up our column names before we get too far."
   ]
  },
  {
   "cell_type": "code",
   "execution_count": 27,
   "metadata": {},
   "outputs": [
    {
     "data": {
      "text/html": [
       "<div>\n",
       "<style scoped>\n",
       "    .dataframe tbody tr th:only-of-type {\n",
       "        vertical-align: middle;\n",
       "    }\n",
       "\n",
       "    .dataframe tbody tr th {\n",
       "        vertical-align: top;\n",
       "    }\n",
       "\n",
       "    .dataframe thead th {\n",
       "        text-align: right;\n",
       "    }\n",
       "</style>\n",
       "<table border=\"1\" class=\"dataframe\">\n",
       "  <thead>\n",
       "    <tr style=\"text-align: right;\">\n",
       "      <th></th>\n",
       "      <th>age</th>\n",
       "      <th>origin</th>\n",
       "      <th>values</th>\n",
       "    </tr>\n",
       "  </thead>\n",
       "  <tbody>\n",
       "    <tr>\n",
       "      <th>0</th>\n",
       "      <td>12</td>\n",
       "      <td>1981-01-01</td>\n",
       "      <td>5012.0</td>\n",
       "    </tr>\n",
       "    <tr>\n",
       "      <th>1</th>\n",
       "      <td>12</td>\n",
       "      <td>1982-01-01</td>\n",
       "      <td>106.0</td>\n",
       "    </tr>\n",
       "    <tr>\n",
       "      <th>2</th>\n",
       "      <td>12</td>\n",
       "      <td>1983-01-01</td>\n",
       "      <td>3410.0</td>\n",
       "    </tr>\n",
       "    <tr>\n",
       "      <th>3</th>\n",
       "      <td>12</td>\n",
       "      <td>1984-01-01</td>\n",
       "      <td>5655.0</td>\n",
       "    </tr>\n",
       "    <tr>\n",
       "      <th>4</th>\n",
       "      <td>12</td>\n",
       "      <td>1985-01-01</td>\n",
       "      <td>1092.0</td>\n",
       "    </tr>\n",
       "  </tbody>\n",
       "</table>\n",
       "</div>"
      ],
      "text/plain": [
       "   age     origin  values\n",
       "0   12 1981-01-01  5012.0\n",
       "1   12 1982-01-01   106.0\n",
       "2   12 1983-01-01  3410.0\n",
       "3   12 1984-01-01  5655.0\n",
       "4   12 1985-01-01  1092.0"
      ]
     },
     "execution_count": 27,
     "metadata": {},
     "output_type": "execute_result"
    }
   ],
   "source": [
    "df.columns = [\"age\", \"origin\", \"values\"]\n",
    "df.head()"
   ]
  },
  {
   "cell_type": "markdown",
   "metadata": {},
   "source": [
    "Next, we will need a valuation column (think Schedule P style triangle)."
   ]
  },
  {
   "cell_type": "code",
   "execution_count": 28,
   "metadata": {},
   "outputs": [
    {
     "data": {
      "text/html": [
       "<div>\n",
       "<style scoped>\n",
       "    .dataframe tbody tr th:only-of-type {\n",
       "        vertical-align: middle;\n",
       "    }\n",
       "\n",
       "    .dataframe tbody tr th {\n",
       "        vertical-align: top;\n",
       "    }\n",
       "\n",
       "    .dataframe thead th {\n",
       "        text-align: right;\n",
       "    }\n",
       "</style>\n",
       "<table border=\"1\" class=\"dataframe\">\n",
       "  <thead>\n",
       "    <tr style=\"text-align: right;\">\n",
       "      <th></th>\n",
       "      <th>age</th>\n",
       "      <th>origin</th>\n",
       "      <th>values</th>\n",
       "      <th>valuation</th>\n",
       "    </tr>\n",
       "  </thead>\n",
       "  <tbody>\n",
       "    <tr>\n",
       "      <th>0</th>\n",
       "      <td>12</td>\n",
       "      <td>1981-01-01</td>\n",
       "      <td>5012.0</td>\n",
       "      <td>1981</td>\n",
       "    </tr>\n",
       "    <tr>\n",
       "      <th>1</th>\n",
       "      <td>12</td>\n",
       "      <td>1982-01-01</td>\n",
       "      <td>106.0</td>\n",
       "      <td>1982</td>\n",
       "    </tr>\n",
       "    <tr>\n",
       "      <th>2</th>\n",
       "      <td>12</td>\n",
       "      <td>1983-01-01</td>\n",
       "      <td>3410.0</td>\n",
       "      <td>1983</td>\n",
       "    </tr>\n",
       "    <tr>\n",
       "      <th>3</th>\n",
       "      <td>12</td>\n",
       "      <td>1984-01-01</td>\n",
       "      <td>5655.0</td>\n",
       "      <td>1984</td>\n",
       "    </tr>\n",
       "    <tr>\n",
       "      <th>4</th>\n",
       "      <td>12</td>\n",
       "      <td>1985-01-01</td>\n",
       "      <td>1092.0</td>\n",
       "      <td>1985</td>\n",
       "    </tr>\n",
       "  </tbody>\n",
       "</table>\n",
       "</div>"
      ],
      "text/plain": [
       "   age     origin  values  valuation\n",
       "0   12 1981-01-01  5012.0       1981\n",
       "1   12 1982-01-01   106.0       1982\n",
       "2   12 1983-01-01  3410.0       1983\n",
       "3   12 1984-01-01  5655.0       1984\n",
       "4   12 1985-01-01  1092.0       1985"
      ]
     },
     "execution_count": 28,
     "metadata": {},
     "output_type": "execute_result"
    }
   ],
   "source": [
    "df[\"valuation\"] = (df[\"origin\"].dt.year + df[\"age\"] / 12 - 1).astype(int)\n",
    "df.head()"
   ]
  },
  {
   "cell_type": "markdown",
   "metadata": {},
   "source": [
    "Now, we are finally ready to load it into the chainladder package!"
   ]
  },
  {
   "cell_type": "code",
   "execution_count": 29,
   "metadata": {},
   "outputs": [
    {
     "data": {
      "text/html": [
       "<table border=\"1\" class=\"dataframe\">\n",
       "  <thead>\n",
       "    <tr style=\"text-align: right;\">\n",
       "      <th></th>\n",
       "      <th>12</th>\n",
       "      <th>24</th>\n",
       "      <th>36</th>\n",
       "      <th>48</th>\n",
       "      <th>60</th>\n",
       "      <th>72</th>\n",
       "      <th>84</th>\n",
       "      <th>96</th>\n",
       "      <th>108</th>\n",
       "      <th>120</th>\n",
       "    </tr>\n",
       "  </thead>\n",
       "  <tbody>\n",
       "    <tr>\n",
       "      <th>1981</th>\n",
       "      <td>5,012</td>\n",
       "      <td>8,269</td>\n",
       "      <td>10,907</td>\n",
       "      <td>11,805</td>\n",
       "      <td>13,539</td>\n",
       "      <td>16,181</td>\n",
       "      <td>18,009</td>\n",
       "      <td>18,608</td>\n",
       "      <td>18,662</td>\n",
       "      <td>18,834</td>\n",
       "    </tr>\n",
       "    <tr>\n",
       "      <th>1982</th>\n",
       "      <td>106</td>\n",
       "      <td>4,285</td>\n",
       "      <td>5,396</td>\n",
       "      <td>10,666</td>\n",
       "      <td>13,782</td>\n",
       "      <td>15,599</td>\n",
       "      <td>15,496</td>\n",
       "      <td>16,169</td>\n",
       "      <td>16,704</td>\n",
       "      <td></td>\n",
       "    </tr>\n",
       "    <tr>\n",
       "      <th>1983</th>\n",
       "      <td>3,410</td>\n",
       "      <td>8,992</td>\n",
       "      <td>13,873</td>\n",
       "      <td>16,141</td>\n",
       "      <td>18,735</td>\n",
       "      <td>22,214</td>\n",
       "      <td>22,863</td>\n",
       "      <td>23,466</td>\n",
       "      <td></td>\n",
       "      <td></td>\n",
       "    </tr>\n",
       "    <tr>\n",
       "      <th>1984</th>\n",
       "      <td>5,655</td>\n",
       "      <td>11,555</td>\n",
       "      <td>15,766</td>\n",
       "      <td>21,266</td>\n",
       "      <td>23,425</td>\n",
       "      <td>26,083</td>\n",
       "      <td>27,067</td>\n",
       "      <td></td>\n",
       "      <td></td>\n",
       "      <td></td>\n",
       "    </tr>\n",
       "    <tr>\n",
       "      <th>1985</th>\n",
       "      <td>1,092</td>\n",
       "      <td>9,565</td>\n",
       "      <td>15,836</td>\n",
       "      <td>22,169</td>\n",
       "      <td>25,955</td>\n",
       "      <td>26,180</td>\n",
       "      <td></td>\n",
       "      <td></td>\n",
       "      <td></td>\n",
       "      <td></td>\n",
       "    </tr>\n",
       "    <tr>\n",
       "      <th>1986</th>\n",
       "      <td>1,513</td>\n",
       "      <td>6,445</td>\n",
       "      <td>11,702</td>\n",
       "      <td>12,935</td>\n",
       "      <td>15,852</td>\n",
       "      <td></td>\n",
       "      <td></td>\n",
       "      <td></td>\n",
       "      <td></td>\n",
       "      <td></td>\n",
       "    </tr>\n",
       "    <tr>\n",
       "      <th>1987</th>\n",
       "      <td>557</td>\n",
       "      <td>4,020</td>\n",
       "      <td>10,946</td>\n",
       "      <td>12,314</td>\n",
       "      <td></td>\n",
       "      <td></td>\n",
       "      <td></td>\n",
       "      <td></td>\n",
       "      <td></td>\n",
       "      <td></td>\n",
       "    </tr>\n",
       "    <tr>\n",
       "      <th>1988</th>\n",
       "      <td>1,351</td>\n",
       "      <td>6,947</td>\n",
       "      <td>13,112</td>\n",
       "      <td></td>\n",
       "      <td></td>\n",
       "      <td></td>\n",
       "      <td></td>\n",
       "      <td></td>\n",
       "      <td></td>\n",
       "      <td></td>\n",
       "    </tr>\n",
       "    <tr>\n",
       "      <th>1989</th>\n",
       "      <td>3,133</td>\n",
       "      <td>5,395</td>\n",
       "      <td></td>\n",
       "      <td></td>\n",
       "      <td></td>\n",
       "      <td></td>\n",
       "      <td></td>\n",
       "      <td></td>\n",
       "      <td></td>\n",
       "      <td></td>\n",
       "    </tr>\n",
       "    <tr>\n",
       "      <th>1990</th>\n",
       "      <td>2,063</td>\n",
       "      <td></td>\n",
       "      <td></td>\n",
       "      <td></td>\n",
       "      <td></td>\n",
       "      <td></td>\n",
       "      <td></td>\n",
       "      <td></td>\n",
       "      <td></td>\n",
       "      <td></td>\n",
       "    </tr>\n",
       "  </tbody>\n",
       "</table>"
      ],
      "text/plain": [
       "         12       24       36       48       60       72       84       96       108      120\n",
       "1981  5012.0   8269.0  10907.0  11805.0  13539.0  16181.0  18009.0  18608.0  18662.0  18834.0\n",
       "1982   106.0   4285.0   5396.0  10666.0  13782.0  15599.0  15496.0  16169.0  16704.0      NaN\n",
       "1983  3410.0   8992.0  13873.0  16141.0  18735.0  22214.0  22863.0  23466.0      NaN      NaN\n",
       "1984  5655.0  11555.0  15766.0  21266.0  23425.0  26083.0  27067.0      NaN      NaN      NaN\n",
       "1985  1092.0   9565.0  15836.0  22169.0  25955.0  26180.0      NaN      NaN      NaN      NaN\n",
       "1986  1513.0   6445.0  11702.0  12935.0  15852.0      NaN      NaN      NaN      NaN      NaN\n",
       "1987   557.0   4020.0  10946.0  12314.0      NaN      NaN      NaN      NaN      NaN      NaN\n",
       "1988  1351.0   6947.0  13112.0      NaN      NaN      NaN      NaN      NaN      NaN      NaN\n",
       "1989  3133.0   5395.0      NaN      NaN      NaN      NaN      NaN      NaN      NaN      NaN\n",
       "1990  2063.0      NaN      NaN      NaN      NaN      NaN      NaN      NaN      NaN      NaN"
      ]
     },
     "execution_count": 29,
     "metadata": {},
     "output_type": "execute_result"
    }
   ],
   "source": [
    "cl.Triangle(\n",
    "    df, origin=\"origin\", development=\"valuation\", columns=\"values\", cumulative=True\n",
    ")"
   ]
  },
  {
   "cell_type": "markdown",
   "metadata": {},
   "source": [
    "## Sparse Triangles\n",
    "By default, the chainladder `Triangle` is a wrapper around a numpy array.  Numpy is optimized for high performance and this allows chainladder to achieve decent computational speeds. Despite being fast, numpy can become memory inefficient with triangle data because triangles are inherently sparse (when memory is being allocated yet no data is stored).\n",
    "\n",
    "The lower half of a an incomplete triangle is generally blank and that means about 50% of an array size is wasted on empty space. As we include granular index and column values in our `Triangle`, the sparsity of the triangle increases further consuming RAM unnecessarily. Chainladder automatically eliminates this extraneous consumption of memory by resorting to a sparse array representation when the Triangle becomes sufficiently large.\n",
    "\n",
    "Let's load the `prism` dataset and include each claim number in the index of the Triangle. The dataset is claim level and includes over 130,000 triangles."
   ]
  },
  {
   "cell_type": "code",
   "execution_count": 30,
   "metadata": {},
   "outputs": [
    {
     "data": {
      "text/html": [
       "<table border=\"1\" class=\"dataframe\">\n",
       "  <thead>\n",
       "    <tr style=\"text-align: right;\">\n",
       "      <th></th>\n",
       "      <th>Triangle Summary</th>\n",
       "    </tr>\n",
       "  </thead>\n",
       "  <tbody>\n",
       "    <tr>\n",
       "      <th>Valuation:</th>\n",
       "      <td>2017-12</td>\n",
       "    </tr>\n",
       "    <tr>\n",
       "      <th>Grain:</th>\n",
       "      <td>OMDM</td>\n",
       "    </tr>\n",
       "    <tr>\n",
       "      <th>Shape:</th>\n",
       "      <td>(34244, 4, 120, 120)</td>\n",
       "    </tr>\n",
       "    <tr>\n",
       "      <th>Index:</th>\n",
       "      <td>[ClaimNo, Line, Type, ClaimLiability, Limit, Deductible]</td>\n",
       "    </tr>\n",
       "    <tr>\n",
       "      <th>Columns:</th>\n",
       "      <td>[reportedCount, closedPaidCount, Paid, Incurred]</td>\n",
       "    </tr>\n",
       "  </tbody>\n",
       "</table>"
      ],
      "text/plain": [
       "                                             Triangle Summary\n",
       "Valuation:                                            2017-12\n",
       "Grain:                                                   OMDM\n",
       "Shape:                                   (34244, 4, 120, 120)\n",
       "Index:      [ClaimNo, Line, Type, ClaimLiability, Limit, D...\n",
       "Columns:     [reportedCount, closedPaidCount, Paid, Incurred]"
      ]
     },
     "execution_count": 30,
     "metadata": {},
     "output_type": "execute_result"
    }
   ],
   "source": [
    "prism = cl.load_sample(\"prism\")\n",
    "prism"
   ]
  },
  {
   "cell_type": "markdown",
   "metadata": {},
   "source": [
    "Let's also look at the array representation of the Triangle and notice how it is no longer a numpy array, but instead a sparse array."
   ]
  },
  {
   "cell_type": "code",
   "execution_count": 31,
   "metadata": {},
   "outputs": [
    {
     "data": {
      "text/html": [
       "<table><tbody><tr><th style=\"text-align: left\">Format</th><td style=\"text-align: left\">coo</td></tr><tr><th style=\"text-align: left\">Data Type</th><td style=\"text-align: left\">float64</td></tr><tr><th style=\"text-align: left\">Shape</th><td style=\"text-align: left\">(34244, 4, 120, 120)</td></tr><tr><th style=\"text-align: left\">nnz</th><td style=\"text-align: left\">121178</td></tr><tr><th style=\"text-align: left\">Density</th><td style=\"text-align: left\">6.143513381095148e-05</td></tr><tr><th style=\"text-align: left\">Read-only</th><td style=\"text-align: left\">True</td></tr><tr><th style=\"text-align: left\">Size</th><td style=\"text-align: left\">2.8M</td></tr><tr><th style=\"text-align: left\">Storage ratio</th><td style=\"text-align: left\">0.00</td></tr></tbody></table>"
      ],
      "text/plain": [
       "<COO: shape=(34244, 4, 120, 120), dtype=float64, nnz=121178, fill_value=nan>"
      ]
     },
     "execution_count": 31,
     "metadata": {},
     "output_type": "execute_result"
    }
   ],
   "source": [
    "prism.values"
   ]
  },
  {
   "cell_type": "markdown",
   "metadata": {},
   "source": [
    "The sparse array consumes about 4.6Mb of memory. We can also see its density is very low, this is because individual claims will at most exist in only one origin period.  Let's approximate the size of this Triangle assuming we used a dense array representation.  Approximation can be done by assuming 8 bytes (for float64) of memory are used for each cell in the array."
   ]
  },
  {
   "cell_type": "code",
   "execution_count": 32,
   "metadata": {},
   "outputs": [
    {
     "name": "stdout",
     "output_type": "stream",
     "text": [
      "Dense array size: 15779.6352 MB.\n",
      "Sparse array size: 2.908272 MB.\n",
      "Dense array is 5425.8 times larger!\n"
     ]
    }
   ],
   "source": [
    "print(\"Dense array size:\", np.prod(prism.shape) / 1e6 * 8, \"MB.\")\n",
    "print(\"Sparse array size:\", prism.values.nbytes / 1e6, \"MB.\")\n",
    "print(\n",
    "    \"Dense array is\",\n",
    "    round((np.prod(prism.shape) / 1e6 * 8) / (prism.values.nbytes / 1e6), 1),\n",
    "    \"times larger!\",\n",
    ")"
   ]
  },
  {
   "cell_type": "markdown",
   "metadata": {},
   "source": [
    "## Incremental vs Cumulative Triangles\n",
    "Cumulative triangles are naturally denser than those stored in an incremental fashion. While almost all actuarial techniques rely on cumulative triangles, it may be worthwhile to maintain and manipulate triangles as incremental triangles until you are ready to apply a model."
   ]
  },
  {
   "cell_type": "code",
   "execution_count": 33,
   "metadata": {},
   "outputs": [
    {
     "data": {
      "text/html": [
       "<table><tbody><tr><th style=\"text-align: left\">Format</th><td style=\"text-align: left\">coo</td></tr><tr><th style=\"text-align: left\">Data Type</th><td style=\"text-align: left\">float64</td></tr><tr><th style=\"text-align: left\">Shape</th><td style=\"text-align: left\">(34244, 4, 120, 120)</td></tr><tr><th style=\"text-align: left\">nnz</th><td style=\"text-align: left\">121178</td></tr><tr><th style=\"text-align: left\">Density</th><td style=\"text-align: left\">6.143513381095148e-05</td></tr><tr><th style=\"text-align: left\">Read-only</th><td style=\"text-align: left\">True</td></tr><tr><th style=\"text-align: left\">Size</th><td style=\"text-align: left\">2.8M</td></tr><tr><th style=\"text-align: left\">Storage ratio</th><td style=\"text-align: left\">0.00</td></tr></tbody></table>"
      ],
      "text/plain": [
       "<COO: shape=(34244, 4, 120, 120), dtype=float64, nnz=121178, fill_value=nan>"
      ]
     },
     "execution_count": 33,
     "metadata": {},
     "output_type": "execute_result"
    }
   ],
   "source": [
    "prism.values"
   ]
  },
  {
   "cell_type": "code",
   "execution_count": 34,
   "metadata": {},
   "outputs": [
    {
     "data": {
      "text/html": [
       "<table><tbody><tr><th style=\"text-align: left\">Format</th><td style=\"text-align: left\">coo</td></tr><tr><th style=\"text-align: left\">Data Type</th><td style=\"text-align: left\">float64</td></tr><tr><th style=\"text-align: left\">Shape</th><td style=\"text-align: left\">(34244, 4, 120, 120)</td></tr><tr><th style=\"text-align: left\">nnz</th><td style=\"text-align: left\">5750047</td></tr><tr><th style=\"text-align: left\">Density</th><td style=\"text-align: left\">0.00291517360299939</td></tr><tr><th style=\"text-align: left\">Read-only</th><td style=\"text-align: left\">True</td></tr><tr><th style=\"text-align: left\">Size</th><td style=\"text-align: left\">219.3M</td></tr><tr><th style=\"text-align: left\">Storage ratio</th><td style=\"text-align: left\">0.01</td></tr></tbody></table>"
      ],
      "text/plain": [
       "<COO: shape=(34244, 4, 120, 120), dtype=float64, nnz=5750047, fill_value=nan>"
      ]
     },
     "execution_count": 34,
     "metadata": {},
     "output_type": "execute_result"
    }
   ],
   "source": [
    "prism = prism.incr_to_cum()\n",
    "prism.values"
   ]
  },
  {
   "cell_type": "markdown",
   "metadata": {},
   "source": [
    "Our incremental triangle is under 5MB, but when we convert to a cumulative triangle it becomes an astonishingly large 219MB and this is despite still maintaining a sparsity of under 0.3%!"
   ]
  },
  {
   "cell_type": "markdown",
   "metadata": {},
   "source": [
    "## Claim-Level Data\n",
    "The sparse representation of triangles allows for substantially more data to be pushed through chainladder. This gives us some nice capabilities that we would not otherwise be able to do with aggregate data.\n",
    "\n",
    "For example, we can now drill into the individual claim makeup of any cell in our Triangle.  Let's look at January 2017 claim details at age 12."
   ]
  },
  {
   "cell_type": "code",
   "execution_count": 35,
   "metadata": {},
   "outputs": [
    {
     "data": {
      "text/html": [
       "<div>\n",
       "<style scoped>\n",
       "    .dataframe tbody tr th:only-of-type {\n",
       "        vertical-align: middle;\n",
       "    }\n",
       "\n",
       "    .dataframe tbody tr th {\n",
       "        vertical-align: top;\n",
       "    }\n",
       "\n",
       "    .dataframe thead th {\n",
       "        text-align: right;\n",
       "    }\n",
       "</style>\n",
       "<table border=\"1\" class=\"dataframe\">\n",
       "  <thead>\n",
       "    <tr style=\"text-align: right;\">\n",
       "      <th></th>\n",
       "      <th>ClaimNo</th>\n",
       "      <th>Line</th>\n",
       "      <th>Type</th>\n",
       "      <th>ClaimLiability</th>\n",
       "      <th>Limit</th>\n",
       "      <th>Deductible</th>\n",
       "      <th>reportedCount</th>\n",
       "      <th>closedPaidCount</th>\n",
       "      <th>Paid</th>\n",
       "      <th>Incurred</th>\n",
       "    </tr>\n",
       "  </thead>\n",
       "  <tbody>\n",
       "    <tr>\n",
       "      <th>0</th>\n",
       "      <td>38339</td>\n",
       "      <td>Auto</td>\n",
       "      <td>PD</td>\n",
       "      <td>False</td>\n",
       "      <td>8000.0</td>\n",
       "      <td>1000</td>\n",
       "      <td>1.0</td>\n",
       "      <td>0.0</td>\n",
       "      <td>0.000000</td>\n",
       "      <td>0.000000</td>\n",
       "    </tr>\n",
       "    <tr>\n",
       "      <th>1</th>\n",
       "      <td>38436</td>\n",
       "      <td>Auto</td>\n",
       "      <td>PD</td>\n",
       "      <td>True</td>\n",
       "      <td>15000.0</td>\n",
       "      <td>1000</td>\n",
       "      <td>1.0</td>\n",
       "      <td>1.0</td>\n",
       "      <td>8337.875863</td>\n",
       "      <td>8337.875863</td>\n",
       "    </tr>\n",
       "    <tr>\n",
       "      <th>2</th>\n",
       "      <td>38142</td>\n",
       "      <td>Auto</td>\n",
       "      <td>PD</td>\n",
       "      <td>True</td>\n",
       "      <td>8000.0</td>\n",
       "      <td>1000</td>\n",
       "      <td>1.0</td>\n",
       "      <td>1.0</td>\n",
       "      <td>7000.000000</td>\n",
       "      <td>7000.000000</td>\n",
       "    </tr>\n",
       "    <tr>\n",
       "      <th>3</th>\n",
       "      <td>38195</td>\n",
       "      <td>Auto</td>\n",
       "      <td>PD</td>\n",
       "      <td>True</td>\n",
       "      <td>20000.0</td>\n",
       "      <td>1000</td>\n",
       "      <td>1.0</td>\n",
       "      <td>1.0</td>\n",
       "      <td>19000.000000</td>\n",
       "      <td>19000.000000</td>\n",
       "    </tr>\n",
       "    <tr>\n",
       "      <th>4</th>\n",
       "      <td>38158</td>\n",
       "      <td>Auto</td>\n",
       "      <td>PD</td>\n",
       "      <td>True</td>\n",
       "      <td>20000.0</td>\n",
       "      <td>1000</td>\n",
       "      <td>1.0</td>\n",
       "      <td>1.0</td>\n",
       "      <td>10686.229420</td>\n",
       "      <td>10686.229420</td>\n",
       "    </tr>\n",
       "    <tr>\n",
       "      <th>...</th>\n",
       "      <td>...</td>\n",
       "      <td>...</td>\n",
       "      <td>...</td>\n",
       "      <td>...</td>\n",
       "      <td>...</td>\n",
       "      <td>...</td>\n",
       "      <td>...</td>\n",
       "      <td>...</td>\n",
       "      <td>...</td>\n",
       "      <td>...</td>\n",
       "    </tr>\n",
       "    <tr>\n",
       "      <th>155</th>\n",
       "      <td>38393</td>\n",
       "      <td>Auto</td>\n",
       "      <td>PD</td>\n",
       "      <td>True</td>\n",
       "      <td>8000.0</td>\n",
       "      <td>1000</td>\n",
       "      <td>1.0</td>\n",
       "      <td>1.0</td>\n",
       "      <td>7000.000000</td>\n",
       "      <td>7000.000000</td>\n",
       "    </tr>\n",
       "    <tr>\n",
       "      <th>156</th>\n",
       "      <td>38396</td>\n",
       "      <td>Auto</td>\n",
       "      <td>PD</td>\n",
       "      <td>True</td>\n",
       "      <td>8000.0</td>\n",
       "      <td>1000</td>\n",
       "      <td>1.0</td>\n",
       "      <td>1.0</td>\n",
       "      <td>7000.000000</td>\n",
       "      <td>7000.000000</td>\n",
       "    </tr>\n",
       "    <tr>\n",
       "      <th>157</th>\n",
       "      <td>38455</td>\n",
       "      <td>Auto</td>\n",
       "      <td>PD</td>\n",
       "      <td>True</td>\n",
       "      <td>20000.0</td>\n",
       "      <td>1000</td>\n",
       "      <td>1.0</td>\n",
       "      <td>1.0</td>\n",
       "      <td>9927.351224</td>\n",
       "      <td>9927.351224</td>\n",
       "    </tr>\n",
       "    <tr>\n",
       "      <th>158</th>\n",
       "      <td>38457</td>\n",
       "      <td>Auto</td>\n",
       "      <td>PD</td>\n",
       "      <td>True</td>\n",
       "      <td>15000.0</td>\n",
       "      <td>1000</td>\n",
       "      <td>1.0</td>\n",
       "      <td>1.0</td>\n",
       "      <td>7874.879070</td>\n",
       "      <td>7874.879070</td>\n",
       "    </tr>\n",
       "    <tr>\n",
       "      <th>159</th>\n",
       "      <td>38460</td>\n",
       "      <td>Auto</td>\n",
       "      <td>PD</td>\n",
       "      <td>True</td>\n",
       "      <td>15000.0</td>\n",
       "      <td>1000</td>\n",
       "      <td>1.0</td>\n",
       "      <td>1.0</td>\n",
       "      <td>3125.840672</td>\n",
       "      <td>3125.840672</td>\n",
       "    </tr>\n",
       "  </tbody>\n",
       "</table>\n",
       "<p>160 rows × 10 columns</p>\n",
       "</div>"
      ],
      "text/plain": [
       "     ClaimNo  Line Type  ClaimLiability    Limit  Deductible  reportedCount  \\\n",
       "0      38339  Auto   PD           False   8000.0        1000            1.0   \n",
       "1      38436  Auto   PD            True  15000.0        1000            1.0   \n",
       "2      38142  Auto   PD            True   8000.0        1000            1.0   \n",
       "3      38195  Auto   PD            True  20000.0        1000            1.0   \n",
       "4      38158  Auto   PD            True  20000.0        1000            1.0   \n",
       "..       ...   ...  ...             ...      ...         ...            ...   \n",
       "155    38393  Auto   PD            True   8000.0        1000            1.0   \n",
       "156    38396  Auto   PD            True   8000.0        1000            1.0   \n",
       "157    38455  Auto   PD            True  20000.0        1000            1.0   \n",
       "158    38457  Auto   PD            True  15000.0        1000            1.0   \n",
       "159    38460  Auto   PD            True  15000.0        1000            1.0   \n",
       "\n",
       "     closedPaidCount          Paid      Incurred  \n",
       "0                0.0      0.000000      0.000000  \n",
       "1                1.0   8337.875863   8337.875863  \n",
       "2                1.0   7000.000000   7000.000000  \n",
       "3                1.0  19000.000000  19000.000000  \n",
       "4                1.0  10686.229420  10686.229420  \n",
       "..               ...           ...           ...  \n",
       "155              1.0   7000.000000   7000.000000  \n",
       "156              1.0   7000.000000   7000.000000  \n",
       "157              1.0   9927.351224   9927.351224  \n",
       "158              1.0   7874.879070   7874.879070  \n",
       "159              1.0   3125.840672   3125.840672  \n",
       "\n",
       "[160 rows x 10 columns]"
      ]
     },
     "execution_count": 35,
     "metadata": {},
     "output_type": "execute_result"
    }
   ],
   "source": [
    "claims = prism[prism.origin == \"2017-01\"][prism.development == 12].to_frame(\n",
    "    origin_as_datetime=True\n",
    ")\n",
    "claims[abs(claims).sum(axis=\"columns\") != 0].reset_index()"
   ]
  },
  {
   "cell_type": "markdown",
   "metadata": {},
   "source": [
    "We can also examine the data as the usual aggregated Triangle, by applying `sum()`. We'll also apply `grain()` so we can better visualize the data."
   ]
  },
  {
   "cell_type": "code",
   "execution_count": 36,
   "metadata": {},
   "outputs": [
    {
     "data": {
      "text/plain": [
       "[<matplotlib.lines.Line2D at 0x2541e620510>,\n",
       " <matplotlib.lines.Line2D at 0x2541e617a10>,\n",
       " <matplotlib.lines.Line2D at 0x2542153f0d0>,\n",
       " <matplotlib.lines.Line2D at 0x2542153c950>,\n",
       " <matplotlib.lines.Line2D at 0x2542154d990>,\n",
       " <matplotlib.lines.Line2D at 0x2542154fa90>,\n",
       " <matplotlib.lines.Line2D at 0x2542153de50>,\n",
       " <matplotlib.lines.Line2D at 0x2542154c950>,\n",
       " <matplotlib.lines.Line2D at 0x2541d2dc350>,\n",
       " <matplotlib.lines.Line2D at 0x2541e61ca90>]"
      ]
     },
     "execution_count": 36,
     "metadata": {},
     "output_type": "execute_result"
    },
    {
     "data": {
      "image/png": "[encoded data removed]",
      "text/plain": [
       "<Figure size 640x480 with 1 Axes>"
      ]
     },
     "metadata": {},
     "output_type": "display_data"
    }
   ],
   "source": [
    "plt.plot(prism[\"Paid\"].sum().grain(\"OYDM\").to_frame(origin_as_datetime=True).T)"
   ]
  },
  {
   "cell_type": "markdown",
   "metadata": {},
   "source": [
    "With claim level data, we can set a claim large loss cap or create an excess Triangle on the fly."
   ]
  },
  {
   "cell_type": "code",
   "execution_count": 37,
   "metadata": {},
   "outputs": [],
   "source": [
    "prism[\"Capped 100k Paid\"] = cl.minimum(prism[\"Paid\"], 100000)\n",
    "prism[\"Excess 100k Paid\"] = prism[\"Paid\"] - prism[\"Capped 100k Paid\"]"
   ]
  },
  {
   "cell_type": "code",
   "execution_count": 38,
   "metadata": {},
   "outputs": [
    {
     "data": {
      "text/plain": [
       "[<matplotlib.lines.Line2D at 0x25423148e50>,\n",
       " <matplotlib.lines.Line2D at 0x254215f4c10>,\n",
       " <matplotlib.lines.Line2D at 0x254215f4f50>,\n",
       " <matplotlib.lines.Line2D at 0x25423153d10>,\n",
       " <matplotlib.lines.Line2D at 0x254215f5610>,\n",
       " <matplotlib.lines.Line2D at 0x254215f5a90>,\n",
       " <matplotlib.lines.Line2D at 0x254231644d0>,\n",
       " <matplotlib.lines.Line2D at 0x2542318e310>,\n",
       " <matplotlib.lines.Line2D at 0x254215f65d0>,\n",
       " <matplotlib.lines.Line2D at 0x25423164190>]"
      ]
     },
     "execution_count": 38,
     "metadata": {},
     "output_type": "execute_result"
    },
    {
     "data": {
      "image/png": "[encoded data removed]",
      "text/plain": [
       "<Figure size 640x480 with 1 Axes>"
      ]
     },
     "metadata": {},
     "output_type": "display_data"
    }
   ],
   "source": [
    "plt.plot(\n",
    "    prism[\"Excess 100k Paid\"].sum().grain(\"OYDM\").to_frame(origin_as_datetime=True).T\n",
    ")"
   ]
  },
  {
   "cell_type": "markdown",
   "metadata": {},
   "source": [
    "### Claim-Level IBNR Estimates"
   ]
  },
  {
   "cell_type": "markdown",
   "metadata": {},
   "source": [
    "Let's see how we can use the API to create claim-level IBNR estimates.  When using aggregate actuarial techniques, it really makes sense to perform the model fitting at an aggregate level.  \n",
    "\n",
    "We use aggregate data to fit the model to generate reasonable development patterns."
   ]
  },
  {
   "cell_type": "code",
   "execution_count": 39,
   "metadata": {},
   "outputs": [],
   "source": [
    "agg_data = prism.sum()[[\"Paid\", \"reportedCount\"]]\n",
    "model_cl = cl.Chainladder().fit(agg_data)"
   ]
  },
  {
   "cell_type": "markdown",
   "metadata": {},
   "source": [
    "With the fitted model, we are not limited to predicting ultimates at the aggregated grain. Let's predict chainladder ultimates at a claim level. Here, we are using `model_cl`, which was built using `agg_data` to make prediction on `prism`, which is claim-level data."
   ]
  },
  {
   "cell_type": "code",
   "execution_count": 40,
   "metadata": {},
   "outputs": [
    {
     "data": {
      "text/html": [
       "<table border=\"1\" class=\"dataframe\">\n",
       "  <thead>\n",
       "    <tr style=\"text-align: right;\">\n",
       "      <th></th>\n",
       "      <th>Triangle Summary</th>\n",
       "    </tr>\n",
       "  </thead>\n",
       "  <tbody>\n",
       "    <tr>\n",
       "      <th>Valuation:</th>\n",
       "      <td>2261-12</td>\n",
       "    </tr>\n",
       "    <tr>\n",
       "      <th>Grain:</th>\n",
       "      <td>OMDM</td>\n",
       "    </tr>\n",
       "    <tr>\n",
       "      <th>Shape:</th>\n",
       "      <td>(34244, 2, 120, 1)</td>\n",
       "    </tr>\n",
       "    <tr>\n",
       "      <th>Index:</th>\n",
       "      <td>[ClaimNo, Line, Type, ClaimLiability, Limit, Deductible]</td>\n",
       "    </tr>\n",
       "    <tr>\n",
       "      <th>Columns:</th>\n",
       "      <td>[Paid, reportedCount]</td>\n",
       "    </tr>\n",
       "  </tbody>\n",
       "</table>"
      ],
      "text/plain": [
       "                                             Triangle Summary\n",
       "Valuation:                                            2261-12\n",
       "Grain:                                                   OMDM\n",
       "Shape:                                     (34244, 2, 120, 1)\n",
       "Index:      [ClaimNo, Line, Type, ClaimLiability, Limit, D...\n",
       "Columns:                                [Paid, reportedCount]"
      ]
     },
     "execution_count": 40,
     "metadata": {},
     "output_type": "execute_result"
    }
   ],
   "source": [
    "cl_ults = model_cl.predict(prism[[\"Paid\", \"reportedCount\"]]).ultimate_\n",
    "cl_ults"
   ]
  },
  {
   "cell_type": "markdown",
   "metadata": {},
   "source": [
    "We could stop here, but let's try a Bornhuetter-Ferguson method as well. We will infer an a-priori severity from our chainladder model, `model_cl` above."
   ]
  },
  {
   "cell_type": "code",
   "execution_count": 41,
   "metadata": {},
   "outputs": [
    {
     "data": {
      "text/plain": [
       "[<matplotlib.lines.Line2D at 0x25421593f90>]"
      ]
     },
     "execution_count": 41,
     "metadata": {},
     "output_type": "execute_result"
    },
    {
     "data": {
      "image/png": "[encoded data removed]",
      "text/plain": [
       "<Figure size 640x480 with 1 Axes>"
      ]
     },
     "metadata": {},
     "output_type": "display_data"
    }
   ],
   "source": [
    "plt.plot(\n",
    "    (model_cl.ultimate_[\"Paid\"] / model_cl.ultimate_[\"reportedCount\"]).to_frame(\n",
    "        origin_as_datetime=True\n",
    "    ),\n",
    ")"
   ]
  },
  {
   "cell_type": "markdown",
   "metadata": {},
   "source": [
    "40K seems a reasonable a-priori (at least for the last two years or so, between 2016 - 2017)."
   ]
  },
  {
   "cell_type": "markdown",
   "metadata": {},
   "source": [
    "Now, let's fit an aggregate Bornhuetter-Ferguson model.  Like the chainladder example, we fit the model in aggregate (summing all claims) to create a stable model from which we can generate granular predictions.  We will use our Chainladder ultimate claim counts as our `sample_weight` (exposure) for the BornhuetterFerguson method."
   ]
  },
  {
   "cell_type": "code",
   "execution_count": 42,
   "metadata": {},
   "outputs": [],
   "source": [
    "paid_bf = cl.BornhuetterFerguson(apriori=40000).fit(\n",
    "    X=prism[\"Paid\"].sum().incr_to_cum(), sample_weight=cl_ults[\"reportedCount\"].sum()\n",
    ")"
   ]
  },
  {
   "cell_type": "code",
   "execution_count": 43,
   "metadata": {},
   "outputs": [
    {
     "data": {
      "text/plain": [
       "<BarContainer object of 10 artists>"
      ]
     },
     "execution_count": 43,
     "metadata": {},
     "output_type": "execute_result"
    },
    {
     "data": {
      "image/png": "[encoded data removed]",
      "text/plain": [
       "<Figure size 640x480 with 1 Axes>"
      ]
     },
     "metadata": {},
     "output_type": "display_data"
    }
   ],
   "source": [
    "plt.bar(\n",
    "    paid_bf.ultimate_.grain(\"OYDM\").to_frame(origin_as_datetime=False).index.year,\n",
    "    paid_bf.ultimate_.grain(\"OYDM\").to_frame(origin_as_datetime=False)[\"2261-12\"],\n",
    ")"
   ]
  },
  {
   "cell_type": "markdown",
   "metadata": {},
   "source": [
    "We can now create claim-level BornhuetterFerguson predictions using our claim-level Triangle.  Ideally, the results should tie to the aggregate results."
   ]
  },
  {
   "cell_type": "code",
   "execution_count": 44,
   "metadata": {},
   "outputs": [],
   "source": [
    "bf_ults = paid_bf.predict(\n",
    "    prism[\"Paid\"].incr_to_cum(), sample_weight=cl_ults[\"reportedCount\"]\n",
    ").ultimate_"
   ]
  },
  {
   "cell_type": "code",
   "execution_count": 45,
   "metadata": {},
   "outputs": [
    {
     "data": {
      "text/plain": [
       "<BarContainer object of 10 artists>"
      ]
     },
     "execution_count": 45,
     "metadata": {},
     "output_type": "execute_result"
    },
    {
     "data": {
      "image/png": "[encoded data removed]",
      "text/plain": [
       "<Figure size 640x480 with 1 Axes>"
      ]
     },
     "metadata": {},
     "output_type": "display_data"
    }
   ],
   "source": [
    "plt.bar(\n",
    "    bf_ults.sum().grain(\"OYDM\").to_frame(origin_as_datetime=False).index.year,\n",
    "    bf_ults.sum().grain(\"OYDM\").to_frame(origin_as_datetime=False)[\"2261-12\"],\n",
    ")"
   ]
  }
 ],
 "metadata": {
  "kernelspec": {
   "display_name": "Python 3 (ipykernel)",
   "language": "python",
   "name": "python3"
  },
  "language_info": {
   "codemirror_mode": {
    "name": "ipython",
    "version": 3
   },
   "file_extension": ".py",
   "mimetype": "text/x-python",
   "name": "python",
   "nbconvert_exporter": "python",
   "pygments_lexer": "ipython3",
   "version": "3.11.13"
  }
 },
 "nbformat": 4,
 "nbformat_minor": 4
}
